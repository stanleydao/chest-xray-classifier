{
 "cells": [
  {
   "cell_type": "code",
   "execution_count": 13,
   "metadata": {},
   "outputs": [
    {
     "name": "stdout",
     "output_type": "stream",
     "text": [
      "\u001b[31mERROR: torch-1.0.0-cp36-cp36m-linux_x86_64.whl is not a supported wheel on this platform.\u001b[0m\n",
      "Requirement already satisfied: fastai in /Users/stanleydao/opt/anaconda3/lib/python3.9/site-packages (2.6.3)\n",
      "Requirement already satisfied: scikit-learn in /Users/stanleydao/opt/anaconda3/lib/python3.9/site-packages (from fastai) (0.24.2)\n",
      "Requirement already satisfied: scipy in /Users/stanleydao/opt/anaconda3/lib/python3.9/site-packages (from fastai) (1.7.1)\n",
      "Requirement already satisfied: fastdownload<2,>=0.0.5 in /Users/stanleydao/opt/anaconda3/lib/python3.9/site-packages (from fastai) (0.0.6)\n",
      "Requirement already satisfied: torchvision>=0.8.2 in /Users/stanleydao/opt/anaconda3/lib/python3.9/site-packages (from fastai) (0.12.0)\n",
      "Requirement already satisfied: pip in /Users/stanleydao/opt/anaconda3/lib/python3.9/site-packages (from fastai) (21.2.4)\n",
      "Requirement already satisfied: packaging in /Users/stanleydao/opt/anaconda3/lib/python3.9/site-packages (from fastai) (21.0)\n",
      "Requirement already satisfied: pandas in /Users/stanleydao/opt/anaconda3/lib/python3.9/site-packages (from fastai) (1.3.4)\n",
      "Requirement already satisfied: matplotlib in /Users/stanleydao/opt/anaconda3/lib/python3.9/site-packages (from fastai) (3.4.3)\n",
      "Requirement already satisfied: spacy<4 in /Users/stanleydao/opt/anaconda3/lib/python3.9/site-packages (from fastai) (3.3.0)\n",
      "Requirement already satisfied: pillow>6.0.0 in /Users/stanleydao/opt/anaconda3/lib/python3.9/site-packages (from fastai) (8.4.0)\n",
      "Requirement already satisfied: pyyaml in /Users/stanleydao/opt/anaconda3/lib/python3.9/site-packages (from fastai) (6.0)\n",
      "Requirement already satisfied: fastprogress>=0.2.4 in /Users/stanleydao/opt/anaconda3/lib/python3.9/site-packages (from fastai) (1.0.2)\n",
      "Requirement already satisfied: fastcore<1.5,>=1.3.27 in /Users/stanleydao/opt/anaconda3/lib/python3.9/site-packages (from fastai) (1.4.3)\n",
      "Requirement already satisfied: torch<1.12,>=1.7.0 in /Users/stanleydao/opt/anaconda3/lib/python3.9/site-packages (from fastai) (1.11.0)\n",
      "Requirement already satisfied: requests in /Users/stanleydao/opt/anaconda3/lib/python3.9/site-packages (from fastai) (2.26.0)\n",
      "Requirement already satisfied: tqdm<5.0.0,>=4.38.0 in /Users/stanleydao/opt/anaconda3/lib/python3.9/site-packages (from spacy<4->fastai) (4.62.3)\n",
      "Requirement already satisfied: thinc<8.1.0,>=8.0.14 in /Users/stanleydao/opt/anaconda3/lib/python3.9/site-packages (from spacy<4->fastai) (8.0.16)\n",
      "Requirement already satisfied: murmurhash<1.1.0,>=0.28.0 in /Users/stanleydao/opt/anaconda3/lib/python3.9/site-packages (from spacy<4->fastai) (1.0.7)\n",
      "Requirement already satisfied: wasabi<1.1.0,>=0.9.1 in /Users/stanleydao/opt/anaconda3/lib/python3.9/site-packages (from spacy<4->fastai) (0.9.1)\n",
      "Requirement already satisfied: catalogue<2.1.0,>=2.0.6 in /Users/stanleydao/opt/anaconda3/lib/python3.9/site-packages (from spacy<4->fastai) (2.0.7)\n",
      "Requirement already satisfied: langcodes<4.0.0,>=3.2.0 in /Users/stanleydao/opt/anaconda3/lib/python3.9/site-packages (from spacy<4->fastai) (3.3.0)\n",
      "Requirement already satisfied: preshed<3.1.0,>=3.0.2 in /Users/stanleydao/opt/anaconda3/lib/python3.9/site-packages (from spacy<4->fastai) (3.0.6)\n",
      "Requirement already satisfied: numpy>=1.15.0 in /Users/stanleydao/opt/anaconda3/lib/python3.9/site-packages (from spacy<4->fastai) (1.20.3)\n",
      "Requirement already satisfied: jinja2 in /Users/stanleydao/opt/anaconda3/lib/python3.9/site-packages (from spacy<4->fastai) (2.11.3)\n",
      "Requirement already satisfied: spacy-loggers<2.0.0,>=1.0.0 in /Users/stanleydao/opt/anaconda3/lib/python3.9/site-packages (from spacy<4->fastai) (1.0.2)\n",
      "Requirement already satisfied: srsly<3.0.0,>=2.4.3 in /Users/stanleydao/opt/anaconda3/lib/python3.9/site-packages (from spacy<4->fastai) (2.4.3)\n",
      "Requirement already satisfied: pathy>=0.3.5 in /Users/stanleydao/opt/anaconda3/lib/python3.9/site-packages (from spacy<4->fastai) (0.6.1)\n",
      "Requirement already satisfied: cymem<2.1.0,>=2.0.2 in /Users/stanleydao/opt/anaconda3/lib/python3.9/site-packages (from spacy<4->fastai) (2.0.6)\n",
      "Requirement already satisfied: pydantic!=1.8,!=1.8.1,<1.9.0,>=1.7.4 in /Users/stanleydao/opt/anaconda3/lib/python3.9/site-packages (from spacy<4->fastai) (1.8.2)\n",
      "Requirement already satisfied: spacy-legacy<3.1.0,>=3.0.9 in /Users/stanleydao/opt/anaconda3/lib/python3.9/site-packages (from spacy<4->fastai) (3.0.9)\n",
      "Requirement already satisfied: typer<0.5.0,>=0.3.0 in /Users/stanleydao/opt/anaconda3/lib/python3.9/site-packages (from spacy<4->fastai) (0.4.1)\n",
      "Requirement already satisfied: setuptools in /Users/stanleydao/opt/anaconda3/lib/python3.9/site-packages (from spacy<4->fastai) (58.0.4)\n",
      "Requirement already satisfied: blis<0.8.0,>=0.4.0 in /Users/stanleydao/opt/anaconda3/lib/python3.9/site-packages (from spacy<4->fastai) (0.7.7)\n",
      "Requirement already satisfied: pyparsing>=2.0.2 in /Users/stanleydao/opt/anaconda3/lib/python3.9/site-packages (from packaging->fastai) (3.0.4)\n",
      "Requirement already satisfied: smart-open<6.0.0,>=5.0.0 in /Users/stanleydao/opt/anaconda3/lib/python3.9/site-packages (from pathy>=0.3.5->spacy<4->fastai) (5.2.1)\n",
      "Requirement already satisfied: typing-extensions>=3.7.4.3 in /Users/stanleydao/opt/anaconda3/lib/python3.9/site-packages (from pydantic!=1.8,!=1.8.1,<1.9.0,>=1.7.4->spacy<4->fastai) (3.10.0.2)\n",
      "Requirement already satisfied: idna<4,>=2.5 in /Users/stanleydao/opt/anaconda3/lib/python3.9/site-packages (from requests->fastai) (3.2)\n",
      "Requirement already satisfied: charset-normalizer~=2.0.0 in /Users/stanleydao/opt/anaconda3/lib/python3.9/site-packages (from requests->fastai) (2.0.4)\n",
      "Requirement already satisfied: certifi>=2017.4.17 in /Users/stanleydao/opt/anaconda3/lib/python3.9/site-packages (from requests->fastai) (2021.10.8)\n",
      "Requirement already satisfied: urllib3<1.27,>=1.21.1 in /Users/stanleydao/opt/anaconda3/lib/python3.9/site-packages (from requests->fastai) (1.26.7)\n",
      "Requirement already satisfied: click<9.0.0,>=7.1.1 in /Users/stanleydao/opt/anaconda3/lib/python3.9/site-packages (from typer<0.5.0,>=0.3.0->spacy<4->fastai) (8.0.3)\n",
      "Requirement already satisfied: MarkupSafe>=0.23 in /Users/stanleydao/opt/anaconda3/lib/python3.9/site-packages (from jinja2->spacy<4->fastai) (1.1.1)\n",
      "Requirement already satisfied: python-dateutil>=2.7 in /Users/stanleydao/opt/anaconda3/lib/python3.9/site-packages (from matplotlib->fastai) (2.8.2)\n",
      "Requirement already satisfied: cycler>=0.10 in /Users/stanleydao/opt/anaconda3/lib/python3.9/site-packages (from matplotlib->fastai) (0.10.0)\n",
      "Requirement already satisfied: kiwisolver>=1.0.1 in /Users/stanleydao/opt/anaconda3/lib/python3.9/site-packages (from matplotlib->fastai) (1.3.1)\n",
      "Requirement already satisfied: six in /Users/stanleydao/opt/anaconda3/lib/python3.9/site-packages (from cycler>=0.10->matplotlib->fastai) (1.16.0)\n",
      "Requirement already satisfied: pytz>=2017.3 in /Users/stanleydao/opt/anaconda3/lib/python3.9/site-packages (from pandas->fastai) (2021.3)\n",
      "Requirement already satisfied: joblib>=0.11 in /Users/stanleydao/opt/anaconda3/lib/python3.9/site-packages (from scikit-learn->fastai) (1.1.0)\n",
      "Requirement already satisfied: threadpoolctl>=2.0.0 in /Users/stanleydao/opt/anaconda3/lib/python3.9/site-packages (from scikit-learn->fastai) (2.2.0)\n"
     ]
    }
   ],
   "source": [
    "!pip install http://download.pytorch.org/whl/cpu/torch-1.0.0-cp36-cp36m-linux_x86_64.whl\n",
    "!pip install fastai"
   ]
  },
  {
   "cell_type": "code",
   "execution_count": 14,
   "metadata": {
    "executionInfo": {
     "elapsed": 3871,
     "status": "ok",
     "timestamp": 1653924984949,
     "user": {
      "displayName": "Stanley Dao",
      "userId": "16737175439134354220"
     },
     "user_tz": 240
    },
    "id": "IAA-XM3pDvhn"
   },
   "outputs": [],
   "source": [
    "from fastai.vision import *\n",
    "from fastai.metrics import error_rate, accuracy\n",
    "import warnings\n",
    "warnings.filterwarnings('ignore')"
   ]
  },
  {
   "cell_type": "code",
   "execution_count": 15,
   "metadata": {
    "colab": {
     "base_uri": "https://localhost:8080/"
    },
    "executionInfo": {
     "elapsed": 172,
     "status": "ok",
     "timestamp": 1653925216710,
     "user": {
      "displayName": "Stanley Dao",
      "userId": "16737175439134354220"
     },
     "user_tz": 240
    },
    "id": "9qf4D-3En63x",
    "outputId": "efa464e5-1d2c-4178-c090-26fbf0e34883"
   },
   "outputs": [],
   "source": [
    "path=\"/Users/stanleydao/Downloads/chest_xray\""
   ]
  },
  {
   "cell_type": "code",
   "execution_count": 16,
   "metadata": {
    "executionInfo": {
     "elapsed": 93885,
     "status": "ok",
     "timestamp": 1653925376559,
     "user": {
      "displayName": "Stanley Dao",
      "userId": "16737175439134354220"
     },
     "user_tz": 240
    },
    "id": "qZa4Ame-n__p",
    "scrolled": true
   },
   "outputs": [
    {
     "ename": "NameError",
     "evalue": "name 'ImageDataBunch' is not defined",
     "output_type": "error",
     "traceback": [
      "\u001b[0;31m---------------------------------------------------------------------------\u001b[0m",
      "\u001b[0;31mNameError\u001b[0m                                 Traceback (most recent call last)",
      "\u001b[0;32m/var/folders/p4/s1tgvs5x1hb3bvtdkl5w62140000gn/T/ipykernel_37432/3832176130.py\u001b[0m in \u001b[0;36m<module>\u001b[0;34m\u001b[0m\n\u001b[0;32m----> 1\u001b[0;31m \u001b[0mdata\u001b[0m \u001b[0;34m=\u001b[0m \u001b[0mImageDataBunch\u001b[0m\u001b[0;34m.\u001b[0m\u001b[0mfrom_folder\u001b[0m\u001b[0;34m(\u001b[0m\u001b[0mpath\u001b[0m\u001b[0;34m,\u001b[0m \u001b[0mtrain\u001b[0m\u001b[0;34m=\u001b[0m\u001b[0;34m'train'\u001b[0m\u001b[0;34m,\u001b[0m \u001b[0mvalid\u001b[0m\u001b[0;34m=\u001b[0m\u001b[0;34m'test'\u001b[0m\u001b[0;34m,\u001b[0m \u001b[0mds_tfms\u001b[0m\u001b[0;34m=\u001b[0m\u001b[0mget_transforms\u001b[0m\u001b[0;34m(\u001b[0m\u001b[0mdo_flip\u001b[0m\u001b[0;34m=\u001b[0m\u001b[0;32mFalse\u001b[0m\u001b[0;34m)\u001b[0m\u001b[0;34m,\u001b[0m \u001b[0msize\u001b[0m\u001b[0;34m=\u001b[0m\u001b[0;36m224\u001b[0m\u001b[0;34m,\u001b[0m \u001b[0mbs\u001b[0m\u001b[0;34m=\u001b[0m\u001b[0;36m64\u001b[0m\u001b[0;34m,\u001b[0m \u001b[0mnum_workers\u001b[0m\u001b[0;34m=\u001b[0m\u001b[0;36m8\u001b[0m\u001b[0;34m)\u001b[0m\u001b[0;34m\u001b[0m\u001b[0;34m\u001b[0m\u001b[0m\n\u001b[0m",
      "\u001b[0;31mNameError\u001b[0m: name 'ImageDataBunch' is not defined"
     ]
    }
   ],
   "source": [
    "data = ImageDataBunch.from_folder(path, train='train', valid='test', ds_tfms=get_transforms(do_flip=False), size=224, bs=64, num_workers=8)"
   ]
  },
  {
   "cell_type": "code",
   "execution_count": null,
   "metadata": {
    "colab": {
     "base_uri": "https://localhost:8080/",
     "height": 1000
    },
    "executionInfo": {
     "elapsed": 22912,
     "status": "ok",
     "timestamp": 1653925424053,
     "user": {
      "displayName": "Stanley Dao",
      "userId": "16737175439134354220"
     },
     "user_tz": 240
    },
    "id": "QajyulekoQIA",
    "outputId": "56efbdc2-77d4-40a2-a808-bea17d5ac2dc"
   },
   "outputs": [],
   "source": [
    "data.show_batch()"
   ]
  },
  {
   "cell_type": "code",
   "execution_count": null,
   "metadata": {
    "colab": {
     "base_uri": "https://localhost:8080/",
     "height": 66,
     "referenced_widgets": [
      "972c919584be4225b77a1032c2dc1389",
      "92448e4fb9114edc9203de31af96831b",
      "74f5f17dff184cba9cb03fb31f7ef3b4",
      "978dcb3d73994cd99f9ae29e6de50750",
      "46bc560f35cf4586b8b44f689137509c",
      "d77f923a67dd40caa7239a556b8d28fa",
      "b626f23a3b3c41e69891e49c1b02e32d",
      "d949fb9ac2b642e8ab3bbb4ee18c2496",
      "24dd14ac9746437bab21d4423daf5896",
      "ed6dad8307144e5ea9694b366853fa78",
      "9f40602916d34b779cbf644a091078bb"
     ]
    },
    "executionInfo": {
     "elapsed": 1696,
     "status": "ok",
     "timestamp": 1653925542632,
     "user": {
      "displayName": "Stanley Dao",
      "userId": "16737175439134354220"
     },
     "user_tz": 240
    },
    "id": "5YbwxuNWotDu",
    "outputId": "e06b7125-69b1-4b9a-bdbc-31e0a6a35699"
   },
   "outputs": [],
   "source": [
    "learn = cnn_learner(data, models.resnet34, metrics = [accuracy])"
   ]
  },
  {
   "cell_type": "code",
   "execution_count": null,
   "metadata": {
    "colab": {
     "base_uri": "https://localhost:8080/",
     "height": 175
    },
    "executionInfo": {
     "elapsed": 897667,
     "status": "ok",
     "timestamp": 1653926461328,
     "user": {
      "displayName": "Stanley Dao",
      "userId": "16737175439134354220"
     },
     "user_tz": 240
    },
    "id": "MkJvl_R7pPMn",
    "outputId": "7707a873-7e9f-4a25-d3c7-c067d4f7808b"
   },
   "outputs": [],
   "source": [
    "learn.fit_one_cycle(4)"
   ]
  },
  {
   "cell_type": "code",
   "execution_count": null,
   "metadata": {
    "id": "-MDanvw6pUuW"
   },
   "outputs": [],
   "source": [
    "learn.save('stage-1')\n",
    "learn.load('stage-1')"
   ]
  },
  {
   "cell_type": "code",
   "execution_count": null,
   "metadata": {
    "colab": {
     "base_uri": "https://localhost:8080/",
     "height": 409
    },
    "executionInfo": {
     "elapsed": 196132,
     "status": "ok",
     "timestamp": 1653926784224,
     "user": {
      "displayName": "Stanley Dao",
      "userId": "16737175439134354220"
     },
     "user_tz": 240
    },
    "id": "R-BmfQH5tA2q",
    "outputId": "f7dd86e5-9b21-4d51-e9fc-a40fe7f33598"
   },
   "outputs": [],
   "source": [
    "learn.unfreeze()\n",
    "learn.lr_find()\n",
    "learn.recorder.plot(suggestion=True)"
   ]
  },
  {
   "cell_type": "code",
   "execution_count": null,
   "metadata": {
    "colab": {
     "base_uri": "https://localhost:8080/",
     "height": 112
    },
    "executionInfo": {
     "elapsed": 440631,
     "status": "ok",
     "timestamp": 1653927431391,
     "user": {
      "displayName": "Stanley Dao",
      "userId": "16737175439134354220"
     },
     "user_tz": 240
    },
    "id": "ENuj70LVtO2N",
    "outputId": "63f1f510-085b-49b8-b6de-4e099f3cdeeb"
   },
   "outputs": [],
   "source": [
    "learn.fit_one_cycle(2, max_lr=slice(3e-7, 3e-6))"
   ]
  },
  {
   "cell_type": "code",
   "execution_count": null,
   "metadata": {
    "colab": {
     "base_uri": "https://localhost:8080/",
     "height": 112
    },
    "executionInfo": {
     "elapsed": 439537,
     "status": "ok",
     "timestamp": 1653927933877,
     "user": {
      "displayName": "Stanley Dao",
      "userId": "16737175439134354220"
     },
     "user_tz": 240
    },
    "id": "-oPyvKsiuxJx",
    "outputId": "7078a021-a2b8-42c5-94ed-ac85ecf6f012"
   },
   "outputs": [],
   "source": [
    "learn.fit_one_cycle(2, max_lr=slice(1e-4, 1e-3))"
   ]
  },
  {
   "cell_type": "code",
   "execution_count": null,
   "metadata": {
    "executionInfo": {
     "elapsed": 820,
     "status": "ok",
     "timestamp": 1653928153171,
     "user": {
      "displayName": "Stanley Dao",
      "userId": "16737175439134354220"
     },
     "user_tz": 240
    },
    "id": "Z7FXwVYNwsGN"
   },
   "outputs": [],
   "source": [
    "learn.export(\"trained_model.pkl\")"
   ]
  },
  {
   "cell_type": "code",
   "execution_count": null,
   "metadata": {
    "id": "6uTy3PkfzMvW"
   },
   "outputs": [],
   "source": []
  }
 ],
 "metadata": {
  "accelerator": "GPU",
  "colab": {
   "authorship_tag": "ABX9TyOSeti7EzWfQ5NB/ksvZTSe",
   "name": "cxr_classifier.ipynb",
   "provenance": []
  },
  "kernelspec": {
   "display_name": "Python 3 (ipykernel)",
   "language": "python",
   "name": "python3"
  },
  "language_info": {
   "codemirror_mode": {
    "name": "ipython",
    "version": 3
   },
   "file_extension": ".py",
   "mimetype": "text/x-python",
   "name": "python",
   "nbconvert_exporter": "python",
   "pygments_lexer": "ipython3",
   "version": "3.9.7"
  },
  "widgets": {
   "application/vnd.jupyter.widget-state+json": {
    "24dd14ac9746437bab21d4423daf5896": {
     "model_module": "@jupyter-widgets/controls",
     "model_module_version": "1.5.0",
     "model_name": "ProgressStyleModel",
     "state": {
      "_model_module": "@jupyter-widgets/controls",
      "_model_module_version": "1.5.0",
      "_model_name": "ProgressStyleModel",
      "_view_count": null,
      "_view_module": "@jupyter-widgets/base",
      "_view_module_version": "1.2.0",
      "_view_name": "StyleView",
      "bar_color": null,
      "description_width": ""
     }
    },
    "46bc560f35cf4586b8b44f689137509c": {
     "model_module": "@jupyter-widgets/base",
     "model_module_version": "1.2.0",
     "model_name": "LayoutModel",
     "state": {
      "_model_module": "@jupyter-widgets/base",
      "_model_module_version": "1.2.0",
      "_model_name": "LayoutModel",
      "_view_count": null,
      "_view_module": "@jupyter-widgets/base",
      "_view_module_version": "1.2.0",
      "_view_name": "LayoutView",
      "align_content": null,
      "align_items": null,
      "align_self": null,
      "border": null,
      "bottom": null,
      "display": null,
      "flex": null,
      "flex_flow": null,
      "grid_area": null,
      "grid_auto_columns": null,
      "grid_auto_flow": null,
      "grid_auto_rows": null,
      "grid_column": null,
      "grid_gap": null,
      "grid_row": null,
      "grid_template_areas": null,
      "grid_template_columns": null,
      "grid_template_rows": null,
      "height": null,
      "justify_content": null,
      "justify_items": null,
      "left": null,
      "margin": null,
      "max_height": null,
      "max_width": null,
      "min_height": null,
      "min_width": null,
      "object_fit": null,
      "object_position": null,
      "order": null,
      "overflow": null,
      "overflow_x": null,
      "overflow_y": null,
      "padding": null,
      "right": null,
      "top": null,
      "visibility": null,
      "width": null
     }
    },
    "74f5f17dff184cba9cb03fb31f7ef3b4": {
     "model_module": "@jupyter-widgets/controls",
     "model_module_version": "1.5.0",
     "model_name": "FloatProgressModel",
     "state": {
      "_dom_classes": [],
      "_model_module": "@jupyter-widgets/controls",
      "_model_module_version": "1.5.0",
      "_model_name": "FloatProgressModel",
      "_view_count": null,
      "_view_module": "@jupyter-widgets/controls",
      "_view_module_version": "1.5.0",
      "_view_name": "ProgressView",
      "bar_style": "success",
      "description": "",
      "description_tooltip": null,
      "layout": "IPY_MODEL_d949fb9ac2b642e8ab3bbb4ee18c2496",
      "max": 87319819,
      "min": 0,
      "orientation": "horizontal",
      "style": "IPY_MODEL_24dd14ac9746437bab21d4423daf5896",
      "value": 87319819
     }
    },
    "92448e4fb9114edc9203de31af96831b": {
     "model_module": "@jupyter-widgets/controls",
     "model_module_version": "1.5.0",
     "model_name": "HTMLModel",
     "state": {
      "_dom_classes": [],
      "_model_module": "@jupyter-widgets/controls",
      "_model_module_version": "1.5.0",
      "_model_name": "HTMLModel",
      "_view_count": null,
      "_view_module": "@jupyter-widgets/controls",
      "_view_module_version": "1.5.0",
      "_view_name": "HTMLView",
      "description": "",
      "description_tooltip": null,
      "layout": "IPY_MODEL_d77f923a67dd40caa7239a556b8d28fa",
      "placeholder": "​",
      "style": "IPY_MODEL_b626f23a3b3c41e69891e49c1b02e32d",
      "value": "100%"
     }
    },
    "972c919584be4225b77a1032c2dc1389": {
     "model_module": "@jupyter-widgets/controls",
     "model_module_version": "1.5.0",
     "model_name": "HBoxModel",
     "state": {
      "_dom_classes": [],
      "_model_module": "@jupyter-widgets/controls",
      "_model_module_version": "1.5.0",
      "_model_name": "HBoxModel",
      "_view_count": null,
      "_view_module": "@jupyter-widgets/controls",
      "_view_module_version": "1.5.0",
      "_view_name": "HBoxView",
      "box_style": "",
      "children": [
       "IPY_MODEL_92448e4fb9114edc9203de31af96831b",
       "IPY_MODEL_74f5f17dff184cba9cb03fb31f7ef3b4",
       "IPY_MODEL_978dcb3d73994cd99f9ae29e6de50750"
      ],
      "layout": "IPY_MODEL_46bc560f35cf4586b8b44f689137509c"
     }
    },
    "978dcb3d73994cd99f9ae29e6de50750": {
     "model_module": "@jupyter-widgets/controls",
     "model_module_version": "1.5.0",
     "model_name": "HTMLModel",
     "state": {
      "_dom_classes": [],
      "_model_module": "@jupyter-widgets/controls",
      "_model_module_version": "1.5.0",
      "_model_name": "HTMLModel",
      "_view_count": null,
      "_view_module": "@jupyter-widgets/controls",
      "_view_module_version": "1.5.0",
      "_view_name": "HTMLView",
      "description": "",
      "description_tooltip": null,
      "layout": "IPY_MODEL_ed6dad8307144e5ea9694b366853fa78",
      "placeholder": "​",
      "style": "IPY_MODEL_9f40602916d34b779cbf644a091078bb",
      "value": " 83.3M/83.3M [00:00&lt;00:00, 168MB/s]"
     }
    },
    "9f40602916d34b779cbf644a091078bb": {
     "model_module": "@jupyter-widgets/controls",
     "model_module_version": "1.5.0",
     "model_name": "DescriptionStyleModel",
     "state": {
      "_model_module": "@jupyter-widgets/controls",
      "_model_module_version": "1.5.0",
      "_model_name": "DescriptionStyleModel",
      "_view_count": null,
      "_view_module": "@jupyter-widgets/base",
      "_view_module_version": "1.2.0",
      "_view_name": "StyleView",
      "description_width": ""
     }
    },
    "b626f23a3b3c41e69891e49c1b02e32d": {
     "model_module": "@jupyter-widgets/controls",
     "model_module_version": "1.5.0",
     "model_name": "DescriptionStyleModel",
     "state": {
      "_model_module": "@jupyter-widgets/controls",
      "_model_module_version": "1.5.0",
      "_model_name": "DescriptionStyleModel",
      "_view_count": null,
      "_view_module": "@jupyter-widgets/base",
      "_view_module_version": "1.2.0",
      "_view_name": "StyleView",
      "description_width": ""
     }
    },
    "d77f923a67dd40caa7239a556b8d28fa": {
     "model_module": "@jupyter-widgets/base",
     "model_module_version": "1.2.0",
     "model_name": "LayoutModel",
     "state": {
      "_model_module": "@jupyter-widgets/base",
      "_model_module_version": "1.2.0",
      "_model_name": "LayoutModel",
      "_view_count": null,
      "_view_module": "@jupyter-widgets/base",
      "_view_module_version": "1.2.0",
      "_view_name": "LayoutView",
      "align_content": null,
      "align_items": null,
      "align_self": null,
      "border": null,
      "bottom": null,
      "display": null,
      "flex": null,
      "flex_flow": null,
      "grid_area": null,
      "grid_auto_columns": null,
      "grid_auto_flow": null,
      "grid_auto_rows": null,
      "grid_column": null,
      "grid_gap": null,
      "grid_row": null,
      "grid_template_areas": null,
      "grid_template_columns": null,
      "grid_template_rows": null,
      "height": null,
      "justify_content": null,
      "justify_items": null,
      "left": null,
      "margin": null,
      "max_height": null,
      "max_width": null,
      "min_height": null,
      "min_width": null,
      "object_fit": null,
      "object_position": null,
      "order": null,
      "overflow": null,
      "overflow_x": null,
      "overflow_y": null,
      "padding": null,
      "right": null,
      "top": null,
      "visibility": null,
      "width": null
     }
    },
    "d949fb9ac2b642e8ab3bbb4ee18c2496": {
     "model_module": "@jupyter-widgets/base",
     "model_module_version": "1.2.0",
     "model_name": "LayoutModel",
     "state": {
      "_model_module": "@jupyter-widgets/base",
      "_model_module_version": "1.2.0",
      "_model_name": "LayoutModel",
      "_view_count": null,
      "_view_module": "@jupyter-widgets/base",
      "_view_module_version": "1.2.0",
      "_view_name": "LayoutView",
      "align_content": null,
      "align_items": null,
      "align_self": null,
      "border": null,
      "bottom": null,
      "display": null,
      "flex": null,
      "flex_flow": null,
      "grid_area": null,
      "grid_auto_columns": null,
      "grid_auto_flow": null,
      "grid_auto_rows": null,
      "grid_column": null,
      "grid_gap": null,
      "grid_row": null,
      "grid_template_areas": null,
      "grid_template_columns": null,
      "grid_template_rows": null,
      "height": null,
      "justify_content": null,
      "justify_items": null,
      "left": null,
      "margin": null,
      "max_height": null,
      "max_width": null,
      "min_height": null,
      "min_width": null,
      "object_fit": null,
      "object_position": null,
      "order": null,
      "overflow": null,
      "overflow_x": null,
      "overflow_y": null,
      "padding": null,
      "right": null,
      "top": null,
      "visibility": null,
      "width": null
     }
    },
    "ed6dad8307144e5ea9694b366853fa78": {
     "model_module": "@jupyter-widgets/base",
     "model_module_version": "1.2.0",
     "model_name": "LayoutModel",
     "state": {
      "_model_module": "@jupyter-widgets/base",
      "_model_module_version": "1.2.0",
      "_model_name": "LayoutModel",
      "_view_count": null,
      "_view_module": "@jupyter-widgets/base",
      "_view_module_version": "1.2.0",
      "_view_name": "LayoutView",
      "align_content": null,
      "align_items": null,
      "align_self": null,
      "border": null,
      "bottom": null,
      "display": null,
      "flex": null,
      "flex_flow": null,
      "grid_area": null,
      "grid_auto_columns": null,
      "grid_auto_flow": null,
      "grid_auto_rows": null,
      "grid_column": null,
      "grid_gap": null,
      "grid_row": null,
      "grid_template_areas": null,
      "grid_template_columns": null,
      "grid_template_rows": null,
      "height": null,
      "justify_content": null,
      "justify_items": null,
      "left": null,
      "margin": null,
      "max_height": null,
      "max_width": null,
      "min_height": null,
      "min_width": null,
      "object_fit": null,
      "object_position": null,
      "order": null,
      "overflow": null,
      "overflow_x": null,
      "overflow_y": null,
      "padding": null,
      "right": null,
      "top": null,
      "visibility": null,
      "width": null
     }
    }
   }
  }
 },
 "nbformat": 4,
 "nbformat_minor": 1
}
